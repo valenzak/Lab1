{
 "metadata": {
  "name": "code.ipynb"
 },
 "nbformat": 3,
 "nbformat_minor": 0,
 "worksheets": [
  {
   "cells": [
    {
     "cell_type": "code",
     "collapsed": false,
     "input": [
      "import arcpy\n",
      "arcpy.env.workspace = \"C:\\\\Users\\\\valenzak\\\\Documents\\\\GitHub\\\\Lab1\\\\outputs\" #Direct to the workspace folder\n",
      "arcpy.AddField_management(\"saep_bg10\", \"County\", \"TEXT\") #Add column to saep_bg10 for county names, titled \"County\" in the workspace folder\n"
     ],
     "language": "python",
     "metadata": {},
     "outputs": []
    },
    {
     "cell_type": "code",
     "collapsed": false,
     "input": [
      "with arcpy.da.UpdateCursor(\"saep_bg10.shp\", [\"COUNTYFP10\", \"County\"]) as cursor:\n",
      "    for row in cursor:\n"
     ],
     "language": "python",
     "metadata": {},
     "outputs": []
    }
   ],
   "metadata": {}
  }
 ]
}