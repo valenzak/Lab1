{
 "metadata": {
  "name": "homework.ipynb"
 },
 "nbformat": 3,
 "nbformat_minor": 0,
 "worksheets": [
  {
   "cells": [
    {
     "cell_type": "markdown",
     "metadata": {},
     "source": [
      "1) Join the table to the shapefile, which adds county names to each census tract.  At first, I was going to write out about 50 elifs, but I asked Prof. Bergmann, who recommended a join would be more efficient (Duh).  I got halfway through writing my elifs, so this step, along with the initial setup of everything, took half an hour or so. Less than 5 minutes after Bergmann recommended joining."
     ]
    },
    {
     "cell_type": "code",
     "collapsed": false,
     "input": [
      "import arcpy\n",
      "arcpy.env.workspace = \"C:\\\\Users\\\\Valenter\\\\Documents\\\\GitHub\\\\Lab1\\\\outputs\" #Direct to the workspace folder\n",
      "arcpy.JoinField_management(\"saep_bg10\", \"COUNTYFP10\", \"WashingtonFIPS\", \"FIPSCounty\") #Join county names to census tracts via FIPS and FP fields\n"
     ],
     "language": "python",
     "metadata": {},
     "outputs": []
    },
    {
     "cell_type": "markdown",
     "metadata": {},
     "source": [
      "2) I found the proper tool, Split_analysis, fairly quickly, but I could not get the syntax right for the life of me.  Heaven forbid there aren't two [[]] around \"POP2013\", \"SUM\"...  Anyways, by looking for examples online, I noticed that all of them did this. This problem solving took maybe half an hour."
     ]
    },
    {
     "cell_type": "code",
     "collapsed": false,
     "input": [
      "#Sum POP2013 for each CountyName into a new table called top10\n",
      "List = arcpy.Statistics_analysis(\"saep_bg10\", \"C:\\\\Users\\\\Valenter\\\\Documents\\\\GitHub\\\\Lab1\\\\outputs\\\\top10\", [[\"POP2013\", \"SUM\"]], [\"CountyName\"])"
     ],
     "language": "python",
     "metadata": {},
     "outputs": []
    },
    {
     "cell_type": "markdown",
     "metadata": {},
     "source": [
      "3) Split the original saep_bg10 into many shape files, based on county name.  This did not take a long time; I basically just double-checked what the split tool did, and then applied it.  It worked the first time."
     ]
    },
    {
     "cell_type": "code",
     "collapsed": false,
     "input": [
      "#Split saep_bg10 into seperate shapefiles for each county name\n",
      "arcpy.Split_analysis(\"saep_bg10\", \"saep_bg10\", \"CountyName\", \"C:\\\\Users\\\\Valenter\\\\Documents\\\\GitHub\\\\Lab1\\\\outputs\")"
     ],
     "language": "python",
     "metadata": {},
     "outputs": []
    },
    {
     "cell_type": "code",
     "collapsed": false,
     "input": [
      "##Now, it's time to sort the counties by their populations\n",
      "\n",
      "#Import environments\n",
      "import arcpy\n",
      "from arcpy import env\n",
      "arcpy.env.workspace = \"C:\\\\Users\\\\Valenter\\\\Documents\\\\GitHub\\\\Lab1\\\\outputs\"\n",
      "\n",
      "#Define input\n",
      "in_dataset = top10\n",
      "#Define output file\n",
      "out_dataset = \"C:\\\\Users\\\\Valenter\\\\Documents\\\\ArcGIS\\\\Default.gdb\\\\top10sort\"\n",
      "#Define which column to sort by, and in what order\n",
      "sort_field = [[\"SUM_POP2013\", \"DESCENDING\"]]\n",
      "#Execute the sort\n",
      "arcpy.Sort_management(in_dataset, out_dataset, sort_field)"
     ],
     "language": "python",
     "metadata": {},
     "outputs": []
    }
   ],
   "metadata": {}
  }
 ]
}